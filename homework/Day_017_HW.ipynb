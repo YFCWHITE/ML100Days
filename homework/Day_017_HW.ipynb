{
 "cells": [
  {
   "cell_type": "code",
   "execution_count": null,
   "metadata": {
    "collapsed": true
   },
   "outputs": [],
   "source": [
    "#1.速度較慢的時候，可以先從哪邊開始檢查？\n",
    "#ANS:檢察檔案的讀取方式\n",
    "#2.資料過大時應採取什麼方式讓記憶體占用量下降？\n",
    "#ANS:將整數型態 int 改成 uint 減少記憶體正用空間"
   ]
  }
 ],
 "metadata": {
  "kernelspec": {
   "display_name": "Python 3",
   "language": "python",
   "name": "python3"
  },
  "language_info": {
   "codemirror_mode": {
    "name": "ipython",
    "version": 3
   },
   "file_extension": ".py",
   "mimetype": "text/x-python",
   "name": "python",
   "nbconvert_exporter": "python",
   "pygments_lexer": "ipython3",
   "version": "3.6.2"
  }
 },
 "nbformat": 4,
 "nbformat_minor": 2
}
