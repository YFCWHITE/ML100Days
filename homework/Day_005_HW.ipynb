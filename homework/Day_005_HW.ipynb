{
 "cells": [
  {
   "cell_type": "code",
   "execution_count": 1,
   "metadata": {
    "collapsed": true
   },
   "outputs": [],
   "source": [
    "import numpy as np"
   ]
  },
  {
   "cell_type": "code",
   "execution_count": 2,
   "metadata": {
    "collapsed": true
   },
   "outputs": [],
   "source": [
    "english_score = np.array([55, 89, 76, 65, 48, 70])\n",
    "math_score = np.array([60, 85, 60, 68, np.nan, 60])\n",
    "chinese_score = np.array([65, 90, 82, 72, 66, 77])"
   ]
  },
  {
   "cell_type": "code",
   "execution_count": 3,
   "metadata": {},
   "outputs": [
    {
     "name": "stdout",
     "output_type": "stream",
     "text": [
      "英文科平均＝ 67.16666666666667\n",
      "英文科最大值＝ 89\n",
      "英文科最小值＝ 48\n",
      "英文科標準差＝ 13.433995020924426\n",
      "數學科平均＝ 66.6\n",
      "數學科最大值＝ 85.0\n",
      "數學科最小值＝ 60.0\n",
      "數學科標準差＝ 9.707728879609279\n",
      "國文科平均＝ 75.33333333333333\n",
      "國文科最大值＝ 90\n",
      "國文科最小值＝ 65\n",
      "國文科標準差＝ 8.825468196582484\n"
     ]
    }
   ],
   "source": [
    "#1. 請計算各科成績平均、最大值、最小值、標準差，其中數學缺一筆資料可忽略？\n",
    "print(\"英文科平均＝\", np.mean(english_score))\n",
    "print(\"英文科最大值＝\", np.max(english_score))\n",
    "print(\"英文科最小值＝\", np.min(english_score))\n",
    "print(\"英文科標準差＝\", np.std(english_score))\n",
    "print(\"數學科平均＝\", np.nanmean(math_score))\n",
    "print(\"數學科最大值＝\", np.nanmax(math_score))\n",
    "print(\"數學科最小值＝\", np.nanmin(math_score))\n",
    "print(\"數學科標準差＝\", np.nanstd(math_score))\n",
    "print(\"國文科平均＝\", np.mean(chinese_score))\n",
    "print(\"國文科最大值＝\", np.max(chinese_score))\n",
    "print(\"國文科最小值＝\", np.min(chinese_score))\n",
    "print(\"國文科標準差＝\", np.std(chinese_score))"
   ]
  },
  {
   "cell_type": "code",
   "execution_count": 4,
   "metadata": {},
   "outputs": [
    {
     "name": "stdout",
     "output_type": "stream",
     "text": [
      "[60. 85. 60. 68. 55. 60.]\n",
      "補考後數學科平均＝ 64.66666666666667\n",
      "補考後數學科最大值＝ 85.0\n",
      "補考後數學科最小值＝ 55.0\n",
      "補考後數學科標準差＝ 9.860132971832694\n"
     ]
    }
   ],
   "source": [
    "#2. 第五位同學補考數學後成績為55，請計算補考後數學成績平均、最大值、最小值、標準差？\n",
    "math_score[4]=55\n",
    "print(math_score)\n",
    "print(\"補考後數學科平均＝\", np.mean(math_score))\n",
    "print(\"補考後數學科最大值＝\", np.max(math_score))\n",
    "print(\"補考後數學科最小值＝\", np.min(math_score))\n",
    "print(\"補考後數學科標準差＝\", np.std(math_score))"
   ]
  },
  {
   "cell_type": "code",
   "execution_count": 5,
   "metadata": {},
   "outputs": [
    {
     "data": {
      "text/plain": [
       "array([[55., 89., 76., 65., 48., 70.],\n",
       "       [60., 85., 60., 68., 55., 60.],\n",
       "       [65., 90., 82., 72., 66., 77.]])"
      ]
     },
     "execution_count": 5,
     "metadata": {},
     "output_type": "execute_result"
    }
   ],
   "source": [
    "#3. 用補考後資料找出與國文成績相關係數最高的學科？ ANS：英文\n",
    "x = np.array([english_score, math_score, chinese_score]).reshape(3, 6)\n",
    "x"
   ]
  },
  {
   "cell_type": "code",
   "execution_count": 6,
   "metadata": {},
   "outputs": [
    {
     "data": {
      "text/plain": [
       "array([[1.        , 0.7855563 , 0.97792828],\n",
       "       [0.7855563 , 1.        , 0.74056803],\n",
       "       [0.97792828, 0.74056803, 1.        ]])"
      ]
     },
     "execution_count": 6,
     "metadata": {},
     "output_type": "execute_result"
    }
   ],
   "source": [
    "np.corrcoef(x)"
   ]
  },
  {
   "cell_type": "code",
   "execution_count": null,
   "metadata": {
    "collapsed": true
   },
   "outputs": [],
   "source": []
  }
 ],
 "metadata": {
  "kernelspec": {
   "display_name": "Python 3",
   "language": "python",
   "name": "python3"
  },
  "language_info": {
   "codemirror_mode": {
    "name": "ipython",
    "version": 3
   },
   "file_extension": ".py",
   "mimetype": "text/x-python",
   "name": "python",
   "nbconvert_exporter": "python",
   "pygments_lexer": "ipython3",
   "version": "3.6.2"
  }
 },
 "nbformat": 4,
 "nbformat_minor": 2
}
