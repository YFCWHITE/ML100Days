{
 "cells": [
  {
   "cell_type": "code",
   "execution_count": 1,
   "metadata": {
    "collapsed": true
   },
   "outputs": [],
   "source": [
    "import pandas as pd\n",
    "import numpy as np\n",
    "import matplotlib.pyplot as plt #繪圖函數\n",
    "from matplotlib import style\n",
    "%matplotlib inline"
   ]
  },
  {
   "cell_type": "code",
   "execution_count": 2,
   "metadata": {},
   "outputs": [
    {
     "name": "stdout",
     "output_type": "stream",
     "text": [
      "     key      CRIM    ZN  INDUS  CHAS    NOX     RM    AGE     DIS   RAD  \\\n",
      "0      1   0.02731   0.0   7.07   0.0  0.469  6.421   78.9  4.9671   2.0   \n",
      "1      2   0.02729   0.0   7.07   0.0  0.469  7.185   61.1  4.9671   2.0   \n",
      "2      3   0.03237   0.0   2.18   0.0  0.458  6.998   45.8  6.0622   3.0   \n",
      "3      4   0.06905   0.0   2.18   0.0  0.458  7.147   54.2  6.0622   3.0   \n",
      "4      5   0.02985   0.0   2.18   0.0  0.458  6.430   58.7  6.0622   3.0   \n",
      "5      6   0.08829  12.5   7.87   0.0  0.524  6.012   66.6  5.5605   5.0   \n",
      "6      7   0.14455  12.5   7.87   0.0  0.524  6.172   96.1  5.9505   5.0   \n",
      "7      8   0.21124  12.5   7.87   0.0  0.524  5.631  100.0  6.0821   5.0   \n",
      "8      9   0.17004  12.5   7.87   0.0  0.524  6.004   85.9  6.5921   5.0   \n",
      "9     10   0.22489  12.5   7.87   0.0  0.524  6.377   94.3  6.3467   5.0   \n",
      "10    11   0.11747  12.5   7.87   0.0  0.524  6.009   82.9  6.2267   5.0   \n",
      "11    12   0.09378  12.5   7.87   0.0  0.524  5.889   39.0  5.4509   5.0   \n",
      "12    13   0.62976   0.0   8.14   0.0  0.538  5.949   61.8  4.7075   4.0   \n",
      "13    14   0.63796   0.0   8.14   0.0  0.538  6.096   84.5  4.4619   4.0   \n",
      "14    15   0.62739   0.0   8.14   0.0  0.538  5.834   56.5  4.4986   4.0   \n",
      "15    16   1.05393   0.0   8.14   0.0  0.538  5.935   29.3  4.4986   4.0   \n",
      "16    17   0.78420   0.0   8.14   0.0  0.538  5.990   81.7  4.2579   4.0   \n",
      "17    18   0.80271   0.0   8.14   0.0  0.538  5.456   36.6  3.7965   4.0   \n",
      "18    19   0.72580   0.0   8.14   0.0  0.538  5.727   69.5  3.7965   4.0   \n",
      "19    20   1.25179   0.0   8.14   0.0  0.538  5.570   98.1  3.7979   4.0   \n",
      "20    21   0.85204   0.0   8.14   0.0  0.538  5.965   89.2  4.0123   4.0   \n",
      "21    22   1.23247   0.0   8.14   0.0  0.538  6.142   91.7  3.9769   4.0   \n",
      "22    23   0.98843   0.0   8.14   0.0  0.538  5.813  100.0  4.0952   4.0   \n",
      "23    24   0.75026   0.0   8.14   0.0  0.538  5.924   94.1  4.3996   4.0   \n",
      "24    25   0.84054   0.0   8.14   0.0  0.538  5.599   85.7  4.4546   4.0   \n",
      "25    26   0.67191   0.0   8.14   0.0  0.538  5.813   90.3  4.6820   4.0   \n",
      "26    27   0.95577   0.0   8.14   0.0  0.538  6.047   88.8  4.4534   4.0   \n",
      "27    28   0.77299   0.0   8.14   0.0  0.538  6.495   94.4  4.4547   4.0   \n",
      "28    29   1.00245   0.0   8.14   0.0  0.538  6.674   87.3  4.2390   4.0   \n",
      "29    30   1.13081   0.0   8.14   0.0  0.538  5.713   94.1  4.2330   4.0   \n",
      "..   ...       ...   ...    ...   ...    ...    ...    ...     ...   ...   \n",
      "475  476   4.87141   0.0  18.10   0.0  0.614  6.484   93.6  2.3053  24.0   \n",
      "476  477  15.02340   0.0  18.10   0.0  0.614  5.304   97.3  2.1007  24.0   \n",
      "477  478  10.23300   0.0  18.10   0.0  0.614  6.185   96.7  2.1705  24.0   \n",
      "478  479  14.33370   0.0  18.10   0.0  0.614  6.229   88.0  1.9512  24.0   \n",
      "479  480   5.82401   0.0  18.10   0.0  0.532  6.242   64.7  3.4242  24.0   \n",
      "480  481   5.70818   0.0  18.10   0.0  0.532  6.750   74.9  3.3317  24.0   \n",
      "481  482   5.73116   0.0  18.10   0.0  0.532  7.061   77.0  3.4106  24.0   \n",
      "482  483   2.81838   0.0  18.10   0.0  0.532  5.762   40.3  4.0983  24.0   \n",
      "483  484   2.37857   0.0  18.10   0.0  0.583  5.871   41.9  3.7240  24.0   \n",
      "484  485   3.67367   0.0  18.10   0.0  0.583  6.312   51.9  3.9917  24.0   \n",
      "485  486   5.69175   0.0  18.10   0.0  0.583  6.114   79.8  3.5459  24.0   \n",
      "486  487   4.83567   0.0  18.10   0.0  0.583  5.905   53.2  3.1523  24.0   \n",
      "487  488   0.15086   0.0  27.74   0.0  0.609  5.454   92.7  1.8209   4.0   \n",
      "488  489   0.18337   0.0  27.74   0.0  0.609  5.414   98.3  1.7554   4.0   \n",
      "489  490   0.20746   0.0  27.74   0.0  0.609  5.093   98.0  1.8226   4.0   \n",
      "490  491   0.10574   0.0  27.74   0.0  0.609  5.983   98.8  1.8681   4.0   \n",
      "491  492   0.11132   0.0  27.74   0.0  0.609  5.983   83.5  2.1099   4.0   \n",
      "492  493   0.17331   0.0   9.69   0.0  0.585  5.707   54.0  2.3817   6.0   \n",
      "493  494   0.27957   0.0   9.69   0.0  0.585  5.926   42.6  2.3817   6.0   \n",
      "494  495   0.17899   0.0   9.69   0.0  0.585  5.670   28.8  2.7986   6.0   \n",
      "495  496   0.28960   0.0   9.69   0.0  0.585  5.390   72.9  2.7986   6.0   \n",
      "496  497   0.26838   0.0   9.69   0.0  0.585  5.794   70.6  2.8927   6.0   \n",
      "497  498   0.23912   0.0   9.69   0.0  0.585  6.019   65.3  2.4091   6.0   \n",
      "498  499   0.17783   0.0   9.69   0.0  0.585  5.569   73.5  2.3999   6.0   \n",
      "499  500   0.22438   0.0   9.69   0.0  0.585  6.027   79.7  2.4982   6.0   \n",
      "500  501   0.06263   0.0  11.93   0.0  0.573  6.593   69.1  2.4786   1.0   \n",
      "501  502   0.04527   0.0  11.93   0.0  0.573  6.120   76.7  2.2875   1.0   \n",
      "502  503   0.06076   0.0  11.93   0.0  0.573  6.976   91.0  2.1675   1.0   \n",
      "503  504   0.10959   0.0  11.93   0.0  0.573  6.794   89.3  2.3889   1.0   \n",
      "504  505   0.04741   0.0  11.93   0.0  0.573  6.030   80.8  2.5050   1.0   \n",
      "\n",
      "       TAX  PTRATIO       B  LSTAT  \n",
      "0    242.0     17.8  396.90   9.14  \n",
      "1    242.0     17.8  392.83   4.03  \n",
      "2    222.0     18.7  394.63   2.94  \n",
      "3    222.0     18.7  396.90   5.33  \n",
      "4    222.0     18.7  394.12   5.21  \n",
      "5    311.0     15.2  395.60  12.43  \n",
      "6    311.0     15.2  396.90  19.15  \n",
      "7    311.0     15.2  386.63  29.93  \n",
      "8    311.0     15.2  386.71  17.10  \n",
      "9    311.0     15.2  392.52  20.45  \n",
      "10   311.0     15.2  396.90  13.27  \n",
      "11   311.0     15.2  390.50  15.71  \n",
      "12   307.0     21.0  396.90   8.26  \n",
      "13   307.0     21.0  380.02  10.26  \n",
      "14   307.0     21.0  395.62   8.47  \n",
      "15   307.0     21.0  386.85   6.58  \n",
      "16   307.0     21.0  386.75  14.67  \n",
      "17   307.0     21.0  288.99  11.69  \n",
      "18   307.0     21.0  390.95  11.28  \n",
      "19   307.0     21.0  376.57  21.02  \n",
      "20   307.0     21.0  392.53  13.83  \n",
      "21   307.0     21.0  396.90  18.72  \n",
      "22   307.0     21.0  394.54  19.88  \n",
      "23   307.0     21.0  394.33  16.30  \n",
      "24   307.0     21.0  303.42  16.51  \n",
      "25   307.0     21.0  376.88  14.81  \n",
      "26   307.0     21.0  306.38  17.28  \n",
      "27   307.0     21.0  387.94  12.80  \n",
      "28   307.0     21.0  380.23  11.98  \n",
      "29   307.0     21.0  360.17  22.60  \n",
      "..     ...      ...     ...    ...  \n",
      "475  666.0     20.2  396.21  18.68  \n",
      "476  666.0     20.2  349.48  24.91  \n",
      "477  666.0     20.2  379.70  18.03  \n",
      "478  666.0     20.2  383.32  13.11  \n",
      "479  666.0     20.2  396.90  10.74  \n",
      "480  666.0     20.2  393.07   7.74  \n",
      "481  666.0     20.2  395.28   7.01  \n",
      "482  666.0     20.2  392.92  10.42  \n",
      "483  666.0     20.2  370.73  13.34  \n",
      "484  666.0     20.2  388.62  10.58  \n",
      "485  666.0     20.2  392.68  14.98  \n",
      "486  666.0     20.2  388.22  11.45  \n",
      "487  711.0     20.1  395.09  18.06  \n",
      "488  711.0     20.1  344.05  23.97  \n",
      "489  711.0     20.1  318.43  29.68  \n",
      "490  711.0     20.1  390.11  18.07  \n",
      "491  711.0     20.1  396.90  13.35  \n",
      "492  391.0     19.2  396.90  12.01  \n",
      "493  391.0     19.2  396.90  13.59  \n",
      "494  391.0     19.2  393.29  17.60  \n",
      "495  391.0     19.2  396.90  21.14  \n",
      "496  391.0     19.2  396.90  14.10  \n",
      "497  391.0     19.2  396.90  12.92  \n",
      "498  391.0     19.2  395.77  15.10  \n",
      "499  391.0     19.2  396.90  14.33  \n",
      "500  273.0     21.0  391.99   9.67  \n",
      "501  273.0     21.0  396.90   9.08  \n",
      "502  273.0     21.0  396.90   5.64  \n",
      "503  273.0     21.0  393.45   6.48  \n",
      "504  273.0     21.0  396.90   7.88  \n",
      "\n",
      "[505 rows x 14 columns]\n"
     ]
    }
   ],
   "source": [
    "#讀取boston.csv\n",
    "boston_df = pd.read_csv('boston.csv')\n",
    "print(boston_df)"
   ]
  },
  {
   "cell_type": "code",
   "execution_count": 3,
   "metadata": {},
   "outputs": [
    {
     "data": {
      "text/plain": [
       "<matplotlib.axes._subplots.AxesSubplot at 0x11555e9e8>"
      ]
     },
     "execution_count": 3,
     "metadata": {},
     "output_type": "execute_result"
    },
    {
     "data": {
      "image/png": "[encoded data removed]",
      "text/plain": [
       "<matplotlib.figure.Figure at 0x10c4f45c0>"
      ]
     },
     "metadata": {},
     "output_type": "display_data"
    }
   ],
   "source": [
    "#1.畫出箱型圖，並判斷哪個欄位的中位數在300~400之間?  ANS:TAX\n",
    "boston_df.boxplot()"
   ]
  },
  {
   "cell_type": "code",
   "execution_count": 4,
   "metadata": {},
   "outputs": [
    {
     "name": "stdout",
     "output_type": "stream",
     "text": [
      "       NOX     DIS\n",
      "0    0.469  4.9671\n",
      "1    0.469  4.9671\n",
      "2    0.458  6.0622\n",
      "3    0.458  6.0622\n",
      "4    0.458  6.0622\n",
      "5    0.524  5.5605\n",
      "6    0.524  5.9505\n",
      "7    0.524  6.0821\n",
      "8    0.524  6.5921\n",
      "9    0.524  6.3467\n",
      "10   0.524  6.2267\n",
      "11   0.524  5.4509\n",
      "12   0.538  4.7075\n",
      "13   0.538  4.4619\n",
      "14   0.538  4.4986\n",
      "15   0.538  4.4986\n",
      "16   0.538  4.2579\n",
      "17   0.538  3.7965\n",
      "18   0.538  3.7965\n",
      "19   0.538  3.7979\n",
      "20   0.538  4.0123\n",
      "21   0.538  3.9769\n",
      "22   0.538  4.0952\n",
      "23   0.538  4.3996\n",
      "24   0.538  4.4546\n",
      "25   0.538  4.6820\n",
      "26   0.538  4.4534\n",
      "27   0.538  4.4547\n",
      "28   0.538  4.2390\n",
      "29   0.538  4.2330\n",
      "..     ...     ...\n",
      "475  0.614  2.3053\n",
      "476  0.614  2.1007\n",
      "477  0.614  2.1705\n",
      "478  0.614  1.9512\n",
      "479  0.532  3.4242\n",
      "480  0.532  3.3317\n",
      "481  0.532  3.4106\n",
      "482  0.532  4.0983\n",
      "483  0.583  3.7240\n",
      "484  0.583  3.9917\n",
      "485  0.583  3.5459\n",
      "486  0.583  3.1523\n",
      "487  0.609  1.8209\n",
      "488  0.609  1.7554\n",
      "489  0.609  1.8226\n",
      "490  0.609  1.8681\n",
      "491  0.609  2.1099\n",
      "492  0.585  2.3817\n",
      "493  0.585  2.3817\n",
      "494  0.585  2.7986\n",
      "495  0.585  2.7986\n",
      "496  0.585  2.8927\n",
      "497  0.585  2.4091\n",
      "498  0.585  2.3999\n",
      "499  0.585  2.4982\n",
      "500  0.573  2.4786\n",
      "501  0.573  2.2875\n",
      "502  0.573  2.1675\n",
      "503  0.573  2.3889\n",
      "504  0.573  2.5050\n",
      "\n",
      "[505 rows x 2 columns]\n"
     ]
    },
    {
     "data": {
      "text/plain": [
       "<matplotlib.axes._subplots.AxesSubplot at 0x117896668>"
      ]
     },
     "execution_count": 4,
     "metadata": {},
     "output_type": "execute_result"
    },
    {
     "data": {
      "image/png": "[encoded data removed]",
      "text/plain": [
       "<matplotlib.figure.Figure at 0x11788d4a8>"
      ]
     },
     "metadata": {},
     "output_type": "display_data"
    }
   ],
   "source": [
    "#2. 畫出散佈圖 x='NOX', y='DIS' ，並說明這兩欄位有什麼關係? ANS:呈現負相關\n",
    "df = pd.DataFrame(boston_df, columns=[\"NOX\",\"DIS\"])\n",
    "print(df)\n",
    "df.plot.scatter(x='NOX', y='DIS')"
   ]
  },
  {
   "cell_type": "code",
   "execution_count": null,
   "metadata": {
    "collapsed": true
   },
   "outputs": [],
   "source": []
  }
 ],
 "metadata": {
  "kernelspec": {
   "display_name": "Python 3",
   "language": "python",
   "name": "python3"
  },
  "language_info": {
   "codemirror_mode": {
    "name": "ipython",
    "version": 3
   },
   "file_extension": ".py",
   "mimetype": "text/x-python",
   "name": "python",
   "nbconvert_exporter": "python",
   "pygments_lexer": "ipython3",
   "version": "3.6.2"
  }
 },
 "nbformat": 4,
 "nbformat_minor": 2
}
